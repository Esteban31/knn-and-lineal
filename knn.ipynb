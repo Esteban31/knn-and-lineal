{
 "cells": [
  {
   "cell_type": "code",
   "execution_count": null,
   "metadata": {},
   "outputs": [],
   "source": [
    "import matplotlib.pyplot as plt\n",
    "import pandas as pd\n",
    "import seaborn as sns\n",
    "from sklearn.neighbors import KNeighborsClassifier\n",
    "\n",
    "\n",
    "data = pd.read_csv('./diabetes.csv', header=0)\n",
    "\n",
    "age = list(data['AGE'])\n",
    "gender = list(data['SEX'])\n",
    "weight = list(data['BMI'])\n",
    "\n",
    "data = {\n",
    "      'Masa': weight,\n",
    "      'Edad': age,\n",
    "      'Genero': gender\n",
    "}\n",
    "punto_nuevo = {\n",
    "      'Masa': [60],\n",
    "      'Edad': [23\n",
    "]}\n",
    "\n",
    "\n",
    "\n",
    "df = pd.DataFrame(data)\n",
    "punto_nuevo = pd.DataFrame(punto_nuevo)\n",
    "\n",
    "ax = plt.axes()\n",
    "ax.scatter(df.loc[df['Genero'] == 1, 'Masa'],df.loc[df['Genero'] == 1, 'Edad'],c=\"blue\",label=\"Hombre\")\n",
    "ax.scatter(df.loc[df['Genero'] == 2, 'Masa'],df.loc[df['Genero'] == 2, 'Edad'],c=\"pink\",label=\"Mujer\")\n",
    "ax.scatter(punto_nuevo['Masa'],punto_nuevo['Edad'],c=\"black\")\n",
    "\n",
    "plt.xlabel(\"Masa\")\n",
    "plt.ylabel(\"Edad\")\n",
    "ax.legend()\n",
    "plt.show()\n",
    "\n",
    "knn = KNeighborsClassifier(n_neighbors=3)\n",
    "X = df[['Masa', 'Edad']]\n",
    "y = df[['Genero']]\n",
    "knn.fit(X, y)\n",
    "prediccion = knn.predict(punto_nuevo)\n",
    "if (prediccion == 1):\n",
    "      print(f'{prediccion} | Hombre')\n",
    "else:\n",
    "      print(f'{prediccion} | Mujer')"
   ]
  }
 ],
 "metadata": {
  "language_info": {
   "name": "python"
  },
  "orig_nbformat": 4
 },
 "nbformat": 4,
 "nbformat_minor": 2
}
